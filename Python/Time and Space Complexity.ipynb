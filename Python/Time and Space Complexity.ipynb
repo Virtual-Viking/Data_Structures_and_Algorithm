{
 "cells": [
  {
   "cell_type": "markdown",
   "metadata": {},
   "source": [
    "</> Duplicate in array\n",
    "Problem statement\n",
    "You have been given an integer array/list(ARR) of size N which contains numbers from 0 to (N - 2). Each number is present at least once. That is, if N = 5, the array/list constitutes values ranging from 0 to 3, and among these, there is a single integer value that is present twice. You need to find and return that duplicate number present in the array.\n",
    "\n",
    "Note :\n",
    "Duplicate number is always present in the given array/list.\n",
    "Detailed explanation ( Input/output format, Notes, Images )\n",
    "Constraints :\n",
    "1 <= t <= 10^2\n",
    "0 <= N <= 10^6\n",
    "\n",
    "Time Limit: 1 sec\n",
    "Sample Input 1:\n",
    "1\n",
    "9\n",
    "0 7 2 5 4 7 1 3 6\n",
    "Sample Output 1:\n",
    "7\n",
    "Sample Input 2:\n",
    "2\n",
    "5\n",
    "0 2 1 3 1\n",
    "7\n",
    "0 3 1 5 4 3 2\n",
    "Sample Output 2:\n",
    "1\n",
    "3"
   ]
  },
  {
   "cell_type": "code",
   "execution_count": null,
   "metadata": {},
   "outputs": [
    {
     "name": "stdout",
     "output_type": "stream",
     "text": [
      "7\n"
     ]
    }
   ],
   "source": [
    "arr = [0,7,2,5,4,7,1,3,6]\n",
    "b = dict()\n",
    "for i in range(len(arr)):\n",
    "    x = b.get(arr[i], \"NA\")\n",
    "\n",
    "    if x==\"NA\":\n",
    "        b[arr[i]] = 1\n",
    "    else:\n",
    "        print(arr[i])\n",
    "        break\n"
   ]
  },
  {
   "cell_type": "markdown",
   "metadata": {},
   "source": [
    "</> Missing and Repeating Numbers\n",
    "Problem statement\n",
    "You are given an array of ‘N’ integers where each integer value is between ‘1’ and ‘N’. Each integer appears exactly once except for ‘P’, which appears exactly twice, and ‘Q’, which is missing.\n",
    "\n",
    "\n",
    "\n",
    "Your task is to find ‘P’ and ‘Q’ and return them respectively.\n",
    "\n",
    "\n",
    "\n",
    "Detailed explanation ( Input/output format, Notes, Images )\n",
    "Constraints:\n",
    "2 <= N <= 5 * 10^4\n",
    "1 <= data <= N\n",
    "\n",
    "Where ‘N’ is the size of the array and ‘data’ denotes the value of the elements of the array. \n",
    "Sample Input 1:\n",
    "4\n",
    "1 2 3 2\n",
    "Sample Output 1:\n",
    "2 4\n",
    "Explanation Of Sample Input 1:\n",
    "Input: ‘N’ = 4\n",
    "‘A’ = [1, 2, 3, 2]\n",
    "Output: {2, 4} - The integer appearing twice is ‘2’, and the integer missing is ‘4’.\n",
    "Sample Input 2:\n",
    "3\n",
    "1 2 1\n",
    "Sample Output 2:\n",
    "1 3"
   ]
  },
  {
   "cell_type": "code",
   "execution_count": 60,
   "metadata": {},
   "outputs": [
    {
     "name": "stdout",
     "output_type": "stream",
     "text": [
      "2 4\n"
     ]
    }
   ],
   "source": [
    "a = [1,2,3,2]\n",
    "n = len(a)\n",
    "b = dict()\n",
    "duplicate = int()\n",
    "missing = int()\n",
    "for i in range(1,n+1):\n",
    "    if i not in a:\n",
    "        missing = i\n",
    "    if a[i-1] not in b:\n",
    "        b[a[i-1]] = 1\n",
    "    else:\n",
    "        duplicate = a[i-1]\n",
    "\n",
    "print(duplicate, missing)"
   ]
  }
 ],
 "metadata": {
  "kernelspec": {
   "display_name": "Python 3",
   "language": "python",
   "name": "python3"
  },
  "language_info": {
   "codemirror_mode": {
    "name": "ipython",
    "version": 3
   },
   "file_extension": ".py",
   "mimetype": "text/x-python",
   "name": "python",
   "nbconvert_exporter": "python",
   "pygments_lexer": "ipython3",
   "version": "3.13.2"
  }
 },
 "nbformat": 4,
 "nbformat_minor": 2
}
